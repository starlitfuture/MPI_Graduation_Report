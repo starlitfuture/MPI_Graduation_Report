{
 "cells": [
  {
   "cell_type": "code",
   "execution_count": 1,
   "metadata": {},
   "outputs": [],
   "source": [
    "import pandas as pd\n",
    "from urllib import request\n",
    "import simplejson as json\n",
    "import time, datetime\n",
    "import os"
   ]
  },
  {
   "cell_type": "code",
   "execution_count": 2,
   "metadata": {},
   "outputs": [],
   "source": [
    "def get_ranking(cate_id, start, end):\n",
    "    # 获取排行榜\n",
    "\n",
    "    # url\n",
    "    url = 'https://s.search.bilibili.com/cate/search?main_ver=v3&search_type=video&view_type=hot_rank&order=click&copy_right=-1&cate_id=%s&page=1&pagesize=50&jsonp=jsonp&time_from=%s&time_to=%s'%(cate_id, start, end)\n",
    "    # 请求网页\n",
    "    response = request.urlopen(url)\n",
    "    # 读取内容\n",
    "    content = response.read()\n",
    "    # 读取json\n",
    "    dirt = json.loads(content)\n",
    "    # 写入排行榜\n",
    "    ranking = pd.DataFrame(data=dirt['result']) \n",
    "    # 返回排行榜\n",
    "    return ranking"
   ]
  },
  {
   "cell_type": "code",
   "execution_count": 3,
   "metadata": {},
   "outputs": [],
   "source": [
    "def mkdir(path):\n",
    "    # 判断路径是否存在\n",
    "    isExists=os.path.exists(path)\n",
    "\n",
    "    if not isExists:\n",
    "        # 如果不存在则创建目录\n",
    "        os.makedirs(path) \n",
    "        return True\n",
    "    else:\n",
    "        return False"
   ]
  },
  {
   "cell_type": "code",
   "execution_count": 4,
   "metadata": {},
   "outputs": [],
   "source": [
    "def ranking_output(cate_id, start, end):\n",
    "\n",
    "    # 转成日期形式方便加天数\n",
    "    start = pd.datetime.strptime(start, '%Y-%m-%d')\n",
    "    end = pd.datetime.strptime(end, '%Y-%m-%d')\n",
    "\n",
    "    # 创建空DataFrame方便后面放数据\n",
    "    data = pd.DataFrame()\n",
    "\n",
    "    # 循环\n",
    "    while start <= end:\n",
    "        # 日期转参数\n",
    "        start_date = start\n",
    "        end_date = start + datetime.timedelta(days=30)\n",
    "\n",
    "        start_ranking = pd.datetime.strftime(start_date, '%Y%m%d')\n",
    "        end_ranking = pd.datetime.strftime(end_date, '%Y%m%d')\n",
    "        # 时不时打印一下方便追踪进度()\n",
    "        print(start_ranking, end=', ')\n",
    "       \t# 拼接数据\n",
    "        data = data.append(get_ranking(cate_id, start_ranking, end_ranking))\n",
    "        # 去重\n",
    "        data.drop_duplicates(inplace=True)\n",
    "        # 等待5秒\n",
    "        time.sleep(5)\n",
    "        # 下一天\n",
    "        start = start + datetime.timedelta(days=30)\n",
    "    \n",
    "    # 获取当前目录\n",
    "    current_path= os.getcwd()\n",
    "    # 创建目录\n",
    "    mkdir(current_path+'/data/ranking')\n",
    "\n",
    "    # 写入排行榜到文件\n",
    "    data.to_csv(current_path+'/data/ranking/{}.csv'.format(cate_id))\n",
    "    # 完成提示\n",
    "    print(cate_id, ': 写入完成')"
   ]
  },
  {
   "cell_type": "code",
   "execution_count": 5,
   "metadata": {},
   "outputs": [
    {
     "name": "stderr",
     "output_type": "stream",
     "text": [
      "<ipython-input-4-51010a3119aa>:4: FutureWarning: The pandas.datetime class is deprecated and will be removed from pandas in a future version. Import from datetime module instead.\n",
      "  start = pd.datetime.strptime(start, '%Y-%m-%d')\n",
      "<ipython-input-4-51010a3119aa>:5: FutureWarning: The pandas.datetime class is deprecated and will be removed from pandas in a future version. Import from datetime module instead.\n",
      "  end = pd.datetime.strptime(end, '%Y-%m-%d')\n",
      "<ipython-input-4-51010a3119aa>:16: FutureWarning: The pandas.datetime class is deprecated and will be removed from pandas in a future version. Import from datetime module instead.\n",
      "  start_ranking = pd.datetime.strftime(start_date, '%Y%m%d')\n",
      "<ipython-input-4-51010a3119aa>:17: FutureWarning: The pandas.datetime class is deprecated and will be removed from pandas in a future version. Import from datetime module instead.\n",
      "  end_ranking = pd.datetime.strftime(end_date, '%Y%m%d')\n"
     ]
    },
    {
     "name": "stdout",
     "output_type": "stream",
     "text": [
      "20190101, 20190131, 20190302, 20190401, 20190501, "
     ]
    },
    {
     "ename": "KeyboardInterrupt",
     "evalue": "",
     "output_type": "error",
     "traceback": [
      "\u001b[0;31m---------------------------------------------------------------------------\u001b[0m",
      "\u001b[0;31mKeyboardInterrupt\u001b[0m                         Traceback (most recent call last)",
      "\u001b[0;32m<ipython-input-5-bff2f38112bb>\u001b[0m in \u001b[0;36m<module>\u001b[0;34m\u001b[0m\n\u001b[1;32m      1\u001b[0m \u001b[0;31m# 分区号, 开始时间, 结束时间\u001b[0m\u001b[0;34m\u001b[0m\u001b[0;34m\u001b[0m\u001b[0;34m\u001b[0m\u001b[0m\n\u001b[0;32m----> 2\u001b[0;31m \u001b[0mranking_output\u001b[0m\u001b[0;34m(\u001b[0m\u001b[0;34m'146'\u001b[0m\u001b[0;34m,\u001b[0m \u001b[0;34m'2019-01-01'\u001b[0m\u001b[0;34m,\u001b[0m \u001b[0;34m'2020-12-01'\u001b[0m\u001b[0;34m)\u001b[0m\u001b[0;34m\u001b[0m\u001b[0;34m\u001b[0m\u001b[0m\n\u001b[0m",
      "\u001b[0;32m<ipython-input-4-51010a3119aa>\u001b[0m in \u001b[0;36mranking_output\u001b[0;34m(cate_id, start, end)\u001b[0m\n\u001b[1;32m     23\u001b[0m         \u001b[0mdata\u001b[0m\u001b[0;34m.\u001b[0m\u001b[0mdrop_duplicates\u001b[0m\u001b[0;34m(\u001b[0m\u001b[0minplace\u001b[0m\u001b[0;34m=\u001b[0m\u001b[0;32mTrue\u001b[0m\u001b[0;34m)\u001b[0m\u001b[0;34m\u001b[0m\u001b[0;34m\u001b[0m\u001b[0m\n\u001b[1;32m     24\u001b[0m         \u001b[0;31m# 等待5秒\u001b[0m\u001b[0;34m\u001b[0m\u001b[0;34m\u001b[0m\u001b[0;34m\u001b[0m\u001b[0m\n\u001b[0;32m---> 25\u001b[0;31m         \u001b[0mtime\u001b[0m\u001b[0;34m.\u001b[0m\u001b[0msleep\u001b[0m\u001b[0;34m(\u001b[0m\u001b[0;36m5\u001b[0m\u001b[0;34m)\u001b[0m\u001b[0;34m\u001b[0m\u001b[0;34m\u001b[0m\u001b[0m\n\u001b[0m\u001b[1;32m     26\u001b[0m         \u001b[0;31m# 下一天\u001b[0m\u001b[0;34m\u001b[0m\u001b[0;34m\u001b[0m\u001b[0;34m\u001b[0m\u001b[0m\n\u001b[1;32m     27\u001b[0m         \u001b[0mstart\u001b[0m \u001b[0;34m=\u001b[0m \u001b[0mstart\u001b[0m \u001b[0;34m+\u001b[0m \u001b[0mdatetime\u001b[0m\u001b[0;34m.\u001b[0m\u001b[0mtimedelta\u001b[0m\u001b[0;34m(\u001b[0m\u001b[0mdays\u001b[0m\u001b[0;34m=\u001b[0m\u001b[0;36m30\u001b[0m\u001b[0;34m)\u001b[0m\u001b[0;34m\u001b[0m\u001b[0;34m\u001b[0m\u001b[0m\n",
      "\u001b[0;31mKeyboardInterrupt\u001b[0m: "
     ]
    }
   ],
   "source": [
    "# 分区号, 开始时间, 结束时间\n",
    "ranking_output('146', '2019-01-01', '2020-12-01')"
   ]
  }
 ],
 "metadata": {
  "kernelspec": {
   "display_name": "Python 3",
   "language": "python",
   "name": "python3"
  },
  "language_info": {
   "codemirror_mode": {
    "name": "ipython",
    "version": 3
   },
   "file_extension": ".py",
   "mimetype": "text/x-python",
   "name": "python",
   "nbconvert_exporter": "python",
   "pygments_lexer": "ipython3",
   "version": "3.8.8"
  }
 },
 "nbformat": 4,
 "nbformat_minor": 2
}
